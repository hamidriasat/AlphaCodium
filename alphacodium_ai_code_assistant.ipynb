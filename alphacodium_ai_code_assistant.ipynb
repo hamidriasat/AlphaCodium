{
 "cells": [
  {
   "cell_type": "markdown",
   "source": [
    "# AI-Powered Code Assistant Agent\n",
    "\n",
    "This notebook presents an AI-powered Code Assistant Agent designed to generate and validate code solutions for programming contest problems through a structured and automated process. The entire process consists of five main steps, ensuring robust and accurate solutions through iterative refinement and validation.\n",
    "\n",
    "**Input**\n",
    "The assistant begins by receiving the problem's name, a detailed problem description, and the number of example test cases.\n",
    "\n",
    "**1. Problem Reflection**\n",
    "The assistant generates a structured reflection on the problem. It creates a comprehensive summary and detailed explanations for each example test case, ensuring a deep understanding before moving forward.\n",
    "\n",
    "**2. Possible Solutions**\n",
    "The assistant generates multiple potential solutions for the problem. It uses structured prompts to interact with AI models, creating distinct solutions that comprehensively address the problem's requirements and constraints.\n",
    "\n",
    "**3. Rank Solutions**\n",
    "The generated solutions are evaluated to select the best one. The assistant assesses each solution's ability to fully solve the problem while maintaining simplicity, robustness, and efficiency.\n",
    "\n",
    "**4. Initial Code Generation**:\n",
    "The assistant transforms the best-ranked solution into executable Python code. It includes necessary imports and organizes the main logic into small, meaningful functions.\n",
    "\n",
    "**5. Iterative Testing and Refinement**:\n",
    "Using LangGraph, the generated code undergoes iterative testing against the provided test cases. The assistant executes the code and compares the results with the expected outputs. If discrepancies arise, the assistant refines the solution, regenerates the code, and retests it. This process continues until a robust and accurate solution is achieved or a maximum number of iterations is reached.\n",
    "\n",
    "**Summary**\n",
    "By following these steps, the AI-powered Code Assistant Agent ensures that the final solution not only meets the problem's requirements but also handles valid inputs effectively, making it reliable for practical implementation.\n"
   ],
   "metadata": {
    "collapsed": false
   },
   "id": "e59cadf810004b6d"
  },
  {
   "cell_type": "markdown",
   "source": [
    "![](https://i.ibb.co/wJ0GBBh/Alpha-Codium-Mini-drawio.png)"
   ],
   "metadata": {
    "collapsed": false
   },
   "id": "a295529173de007a"
  },
  {
   "cell_type": "markdown",
   "source": [
    "## Environment Variable"
   ],
   "metadata": {
    "collapsed": false
   },
   "id": "a2f10a86d7e5ddf"
  },
  {
   "cell_type": "code",
   "execution_count": 1,
   "id": "initial_id",
   "metadata": {
    "collapsed": true,
    "ExecuteTime": {
     "end_time": "2024-08-05T06:33:55.178154Z",
     "start_time": "2024-08-05T06:33:55.130843800Z"
    }
   },
   "outputs": [
    {
     "data": {
      "text/plain": "True"
     },
     "execution_count": 1,
     "metadata": {},
     "output_type": "execute_result"
    }
   ],
   "source": [
    "from dotenv import load_dotenv\n",
    "\n",
    "load_dotenv()"
   ]
  },
  {
   "cell_type": "markdown",
   "source": [
    "## Input\n",
    "\n",
    "Specifies the input name (`input_problem_name`), its detailed problem description (`input_problem_description`), and the number of test cases it includes (`input_actual_number_of_tests`)."
   ],
   "metadata": {
    "collapsed": false
   },
   "id": "345c3040e19ecbe6"
  },
  {
   "cell_type": "code",
   "execution_count": 2,
   "outputs": [],
   "source": [
    "input_problem_name = '1575_B. Building an Amusement Park'\n",
    "\n",
    "# TODO: separate public test cases from description, not the input structure details only the input/output examples\n",
    "input_problem_description = \"\"\"\n",
    "Mr. Chanek lives in a city represented as a plane. He wants to build an amusement park in the shape of a circle of radius r. \n",
    "The circle must touch the origin (point (0, 0)).\n",
    "There are n bird habitats that can be a photo spot for the tourists in the park. The i-th bird habitat is at point p_i = (x_i, y_i).\n",
    "\n",
    "Find the minimum radius r of a park with at least k bird habitats inside. \n",
    "\n",
    "A point is considered to be inside the park if and only if the distance between p_i and the center of the park is less than or equal \n",
    "to the radius of the park.\n",
    "Note that the center and the radius of the park do not need to be integers.\n",
    "\n",
    "In this problem, it is guaranteed that the given input always has a solution with r ≤ 2 ⋅ 10^5.\n",
    "\n",
    "Input\n",
    "\n",
    "The first line contains two integers n and k (1 ≤ n ≤ 10^5, 1 ≤ k ≤ n) — the number of bird habitats in the city and the number of bird \n",
    "habitats required to be inside the park.\n",
    "The i-th of the next n lines contains two integers x_i and y_i (0 ≤ |x_i|, |y_i| ≤ 10^5) — the position of the i-th bird habitat.\n",
    "\n",
    "Output\n",
    "\n",
    "Output a single real number r denoting the minimum radius of a park with at least k bird habitats inside. It is guaranteed that the given \n",
    "input always has a solution with r ≤ 2 ⋅ 10^5.\n",
    "Your answer is considered correct if its absolute or relative error does not exceed 10^{-4}.\n",
    "Formally, let your answer be a, and the jury's answer be b. Your answer is accepted if and only if \\frac{|a - b|}{max{(1, |b|)}} ≤ 10^{-4}.\n",
    "\n",
    "Examples\n",
    "\n",
    "Input\n",
    "\n",
    "8 4\n",
    "-3 1\n",
    "-4 4\n",
    "1 5\n",
    "2 2\n",
    "2 -2\n",
    "-2 -4\n",
    "-1 -1\n",
    "-6 0\n",
    "\n",
    "Output\n",
    "\n",
    "3.1622776589\n",
    "\n",
    "\n",
    "Input\n",
    "\n",
    "1 1\n",
    "0 0\n",
    "\n",
    "\n",
    "Output\n",
    "\n",
    "0.0000000000\n",
    "\n",
    "Note\n",
    "\n",
    "In the first example, Mr. Chanek can put the center of the park at (-3, -1) with radius √{10} ≈ 3.162. It can be proven this is the minimum r.\n",
    "\"\"\"\n",
    "\n",
    "input_actual_number_of_tests = 2"
   ],
   "metadata": {
    "collapsed": false,
    "ExecuteTime": {
     "end_time": "2024-08-05T06:33:55.178154Z",
     "start_time": "2024-08-05T06:33:55.163640200Z"
    }
   },
   "id": "a808d42d589a00f2"
  },
  {
   "cell_type": "markdown",
   "source": [
    "## Problem Reflection\n",
    "\n",
    "The aim of the problem reflection section is to deeply understand and document the given problem in a structured manner. This involves creating a self-reflection that captures all aspects of the problem in detailed bullet points, considering nuances, constraints, and examples provided in the problem description. Additionally, this section includes generating detailed explanations for each example test case given in the problem statement, demonstrating how the input leads to the output. This structured reflection helps in forming a solid understanding of the problem before moving on to solution generation."
   ],
   "metadata": {
    "collapsed": false
   },
   "id": "8bf5ce9b6cb7cb8c"
  },
  {
   "cell_type": "markdown",
   "source": [
    "### Parser Models"
   ],
   "metadata": {
    "collapsed": false
   },
   "id": "7e5b84857da586b0"
  },
  {
   "cell_type": "code",
   "execution_count": 3,
   "outputs": [],
   "source": [
    "from typing import List\n",
    "from langchain_core.pydantic_v1 import BaseModel, Field\n",
    "\n",
    "# Output parser to format reflection output\n",
    "class ReflectionInputOutput(BaseModel):\n",
    "    input: str = Field(description=\"Test input.\")\n",
    "    output: str = Field(description=\"Test output.\")\n",
    "    explanation: str = Field(description=\"Short explanation how the test input leads to the test output.\")\n",
    "\n",
    "\n",
    "class ProblemReflectionParser(BaseModel):\n",
    "    self_reflection: str = Field(\n",
    "        description=\"Describe the problem in your own words, in bullet points. Address the problem goals, inputs, outputs, rules, constraints, and other relevant details.\")\n",
    "    tests_explanations: List[ReflectionInputOutput] = Field(description=\"List of explanations for each test case\")"
   ],
   "metadata": {
    "collapsed": false,
    "ExecuteTime": {
     "end_time": "2024-08-05T06:33:58.106289500Z",
     "start_time": "2024-08-05T06:33:57.977167800Z"
    }
   },
   "id": "96c8aaadba962a3f"
  },
  {
   "cell_type": "markdown",
   "source": [
    "### Prompts"
   ],
   "metadata": {
    "collapsed": false
   },
   "id": "72c44206e63e8fc4"
  },
  {
   "cell_type": "code",
   "execution_count": 4,
   "outputs": [],
   "source": [
    "# System prompt guiding the reflection process\n",
    "reflection_system_prompt = \"\"\"\n",
    "The self-reflection must cover every aspect of the problem. Pay attention to small details and nuances in the problem description.\n",
    "\"\"\"\n",
    "\n",
    "# User prompt asking for a detailed reflection and test explanations\n",
    "reflection_user_prompt = \"\"\"You are given a code contest problem:\n",
    "\n",
    "problem name: '{name}'\n",
    "\n",
    "\n",
    "problem description:\n",
    "=====\n",
    "{description}\n",
    "=====\n",
    "\n",
    "\n",
    "Given the code contest problem, you have two tasks:\n",
    "1) Reflect on the problem, and describe it in your own words, in bullet points. Pay attention to small details, nuances, notes and examples in the problem description.\n",
    "2) Explain how each provided example input leads to the corresponding output (in total {actual_number_of_tests} examples are provided).\n",
    "Read carefully the problem description. Make sure the test explanations are consistent with them, and between themselves.\n",
    "The explanation must coherently and logically lead from the input to the output. Be as specific as possible.\n",
    "\n",
    "\\n{format_instructions}\n",
    "\"\"\""
   ],
   "metadata": {
    "collapsed": false,
    "ExecuteTime": {
     "end_time": "2024-08-05T06:34:04.347566100Z",
     "start_time": "2024-08-05T06:34:04.317467800Z"
    }
   },
   "id": "2d323e869472f5f4"
  },
  {
   "cell_type": "markdown",
   "source": [
    "### Generation"
   ],
   "metadata": {
    "collapsed": false
   },
   "id": "995280ce6ce0cff2"
  },
  {
   "cell_type": "code",
   "execution_count": 5,
   "outputs": [],
   "source": [
    "from langchain_core.prompts import ChatPromptTemplate\n",
    "from langchain.output_parsers import YamlOutputParser\n",
    "from langchain_openai import ChatOpenAI\n",
    "\n",
    "# Define model parameters and initialize\n",
    "reflection_temperature = 0.2\n",
    "reflection_model = ChatOpenAI(model_name=\"gpt-4o\", temperature=reflection_temperature, )\n",
    "\n",
    "# Initialize parsers for reflection  output\n",
    "reflection_parser = YamlOutputParser(pydantic_object=ProblemReflectionParser)\n",
    "reflection_prompt = ChatPromptTemplate.from_messages(\n",
    "    [\n",
    "        (\"system\", reflection_system_prompt),\n",
    "        (\"user\", reflection_user_prompt)\n",
    "    ],\n",
    ")\n",
    "\n",
    "# Chain to handle prompt-model-parser sequence\n",
    "reflection_chain = reflection_prompt | reflection_model | reflection_parser\n",
    "\n",
    "reflection_testing_prompt = reflection_prompt.format(name=input_problem_name,\n",
    "                                                     description=input_problem_description,\n",
    "                                                     actual_number_of_tests=input_actual_number_of_tests,\n",
    "                                                     format_instructions=reflection_parser.get_format_instructions())\n",
    "# Invoke the chain to produce the reflection output\n",
    "reflection_output: ProblemReflectionParser = reflection_chain.invoke({\"name\": input_problem_name,\n",
    "                                                                      \"description\": input_problem_description,\n",
    "                                                                      \"actual_number_of_tests\": input_actual_number_of_tests,\n",
    "                                                                      \"format_instructions\": reflection_parser.get_format_instructions()\n",
    "                                                                      })"
   ],
   "metadata": {
    "collapsed": false,
    "ExecuteTime": {
     "end_time": "2024-08-05T06:34:18.299926500Z",
     "start_time": "2024-08-05T06:34:05.385031Z"
    }
   },
   "id": "8c6d742d01b69695"
  },
  {
   "cell_type": "markdown",
   "source": [
    "## Possible Solutions\n",
    "\n",
    "The goal of the possible solutions section is to generate multiple potential solutions to the given problem. This section leverages structured models to represent each solution with details such as the solution name, content, explanation of why it works, relevant labels, and its complexity. Using a combination of system and user prompts, it interacts with a language model to produce up to three distinct solutions, each fully addressing the problem requirements, constraints, and examples. These solutions are designed to be efficient and generalized to handle any valid input within the problem's constraints. This step ensures that various approaches are considered before selecting the most robust and efficient solution."
   ],
   "metadata": {
    "collapsed": false
   },
   "id": "eec2fe768524e3fb"
  },
  {
   "cell_type": "markdown",
   "source": [
    "### Parser Models"
   ],
   "metadata": {
    "collapsed": false
   },
   "id": "867549fcb4792aad"
  },
  {
   "cell_type": "code",
   "execution_count": 6,
   "outputs": [],
   "source": [
    "\n",
    "class Solution(BaseModel):\n",
    "    name: str = Field(description=\"The name of the solution\")\n",
    "    content: str = Field(description=\"A description of the solution\")\n",
    "    why_it_works: str = Field(\n",
    "        description=\"Shortly explain why this solution correctly solves the problem. Be specific and detailed regarding the problem rules and goals.\")\n",
    "    labels: List[str] = Field(\n",
    "        description=\"A list of labels for the solution. For example (partial list): binary search, dynamic programming, trees, combinatorics, dfs, bfs, graphs, greedy, math, data structures, geometry, number theory, two pointers, simulation, direct approach, probabilities, ...\")\n",
    "    complexity: str = Field(description=\"The complexity of the solution\")\n",
    "\n",
    "\n",
    "class ProblemSolutionsParser(BaseModel):\n",
    "    possible_solutions: List[Solution] = Field(\n",
    "        description=\"A list of possible solutions to the problem. Make sure each solution fully addresses the problem rules and goals.\")"
   ],
   "metadata": {
    "collapsed": false,
    "ExecuteTime": {
     "end_time": "2024-08-05T06:34:26.318362400Z",
     "start_time": "2024-08-05T06:34:26.289768600Z"
    }
   },
   "id": "72f843bd3626c966"
  },
  {
   "cell_type": "markdown",
   "source": [
    "### Prompts"
   ],
   "metadata": {
    "collapsed": false
   },
   "id": "fed61ca8db9d7e0b"
  },
  {
   "cell_type": "code",
   "execution_count": 7,
   "outputs": [],
   "source": [
    "\n",
    "ps_system_prompt = \"\"\"\n",
    "Pay attention to small details and nuances in the problem description.\n",
    "\"\"\"\n",
    "# TODO: Add flexibility to output 1 or 2 solutions too, if only one solution is given then skip solution selection step.\n",
    "ps_user_prompt = \"\"\"You are given a code contest problem, and a self-reflection on the problem:\n",
    "\n",
    "problem description:\n",
    "=====\n",
    "{description}\n",
    "=====\n",
    "\n",
    "\n",
    "self-reflection on the problem:\n",
    "============\n",
    "{self_reflection}\n",
    "============\n",
    "\n",
    "\n",
    "Here are also explanations for the problem test cases:\n",
    "============\n",
    "{tests_explanations_str}\n",
    "============\n",
    "\n",
    "\n",
    "Your goal is to come up with possible solutions to the code contest problem.\n",
    "\n",
    "Guidelines:\n",
    "- Please generate up to a maximum of {max_num_of_possible_solutions} distinct solutions.\n",
    "- Make sure each solution fully addresses the problem goals, constraints, examples, and notes.\n",
    "- Each solution must have reasonable runtime and memory complexity - less than three seconds on a modern computer, given the problem constraints for large inputs.\n",
    "- Double-check the solutions. Each possible solution must be able to generalize to additional test cases, not just the ones provided in the problem description.\n",
    "\n",
    "\\n{format_instructions}\n",
    "\"\"\""
   ],
   "metadata": {
    "collapsed": false,
    "ExecuteTime": {
     "end_time": "2024-08-05T06:34:26.858688200Z",
     "start_time": "2024-08-05T06:34:26.810122600Z"
    }
   },
   "id": "3c43724bc892a28f"
  },
  {
   "cell_type": "code",
   "execution_count": 8,
   "outputs": [],
   "source": [
    "\n",
    "def format_reflection_tests(tests: List[ReflectionInputOutput]) -> str:\n",
    "    \"\"\"Formats a list of reflection test cases into a readable string.\"\"\"\n",
    "    formatted = \"\"\n",
    "    for i, test in enumerate(tests, 1):\n",
    "        formatted += f\"Test {i}:\\n\"\n",
    "        formatted += f\"Input:\\n{test.input.strip()}\\n\"\n",
    "        formatted += f\"Output:\\n{test.output.strip()}\\n\"\n",
    "        formatted += f\"Explanation:\\n{test.explanation.strip()}\\n\\n\"\n",
    "    return formatted.strip()"
   ],
   "metadata": {
    "collapsed": false,
    "ExecuteTime": {
     "end_time": "2024-08-05T06:34:27.323133600Z",
     "start_time": "2024-08-05T06:34:27.275730600Z"
    }
   },
   "id": "a04bfa5d98259a73"
  },
  {
   "cell_type": "markdown",
   "source": [
    "### Generation"
   ],
   "metadata": {
    "collapsed": false
   },
   "id": "14319cf10fb878bc"
  },
  {
   "cell_type": "code",
   "execution_count": 9,
   "outputs": [],
   "source": [
    "\n",
    "ps_max_num = 3\n",
    "ps_temperature = 0  # 0.3\n",
    "\n",
    "ps_model = ChatOpenAI(model_name=\"gpt-4\", temperature=ps_temperature, )\n",
    "\n",
    "ps_parser = YamlOutputParser(pydantic_object=ProblemSolutionsParser)\n",
    "ps_prompt = ChatPromptTemplate.from_messages(\n",
    "    [\n",
    "        (\"system\", ps_system_prompt),\n",
    "        (\"user\", ps_user_prompt)\n",
    "    ],\n",
    ")\n",
    "\n",
    "ps_chain = ps_prompt | ps_model | ps_parser\n",
    "\n",
    "ps_testing_prompt = ps_prompt.format(description=input_problem_description,\n",
    "                                     self_reflection=reflection_output.self_reflection,\n",
    "                                     tests_explanations_str=format_reflection_tests(\n",
    "                                         reflection_output.tests_explanations),\n",
    "                                     max_num_of_possible_solutions=ps_max_num,\n",
    "                                     format_instructions=ps_parser.get_format_instructions())\n",
    "ps_output: ProblemSolutionsParser = ps_chain.invoke({\"description\": input_problem_description,\n",
    "                                                     \"self_reflection\": reflection_output.self_reflection,\n",
    "                                                     \"tests_explanations_str\": format_reflection_tests(\n",
    "                                                         reflection_output.tests_explanations),\n",
    "                                                     \"max_num_of_possible_solutions\": ps_max_num,\n",
    "                                                     \"format_instructions\": ps_parser.get_format_instructions()\n",
    "                                                     })"
   ],
   "metadata": {
    "collapsed": false,
    "ExecuteTime": {
     "end_time": "2024-08-05T06:34:58.931972400Z",
     "start_time": "2024-08-05T06:34:28.632425300Z"
    }
   },
   "id": "d99aeeb017ae5dee"
  },
  {
   "cell_type": "markdown",
   "source": [
    "## Rank Solutions\n",
    "\n",
    "The rank solutions section is dedicated to evaluating and selecting the best among the generated potential solutions. This involves analyzing each solution to ensure it fully solves the problem while being simple, robust, and efficient. The process uses structured models to capture the selected solution's name, content, the rationale for its selection, and relevant test cases. System and user prompts guide a language model to rank the solutions based on their effectiveness and compliance with problem constraints. The ultimate goal is to pick a solution that is not just theoretically sound but also practically implementable within acceptable runtime and memory constraints."
   ],
   "metadata": {
    "collapsed": false
   },
   "id": "4694f0ae64deac8e"
  },
  {
   "cell_type": "markdown",
   "source": [
    "### Parser Models"
   ],
   "metadata": {
    "collapsed": false
   },
   "id": "9155fba69e9ae57e"
  },
  {
   "cell_type": "code",
   "execution_count": 10,
   "outputs": [],
   "source": [
    "\n",
    "class ProblemSolutionTest(BaseModel):\n",
    "    input: str = Field(description=\"Test input.\")\n",
    "    output: str = Field(description=\"Test output.\")\n",
    "\n",
    "\n",
    "class ProblemSolutionParser(BaseModel):\n",
    "    name: str = Field(description=\"The name of the best solution\")\n",
    "    content: str = Field(description=\"The content of the best solution\")\n",
    "    why: str = Field(description=\"Shortly explain why is this the best solution\")\n",
    "    # TODO: Add support for below fields\n",
    "    # flow: list[str] = Field(description=\"Describe the flow of the solution in single-level bullet points. Nested bullet points are not allowed. Each item should be a single bullet point at the same level.\")\n",
    "    problem_tests: List[ProblemSolutionTest] = Field(\n",
    "        \"List the input-output examples that are provided in the problem description.\")\n",
    "    # input_output_examples_flow: List[str] = Field(description=\"Describe, in single-level bullet points, how the proposed flow will lead to getting the expected output for the provided input examples. Nested bullet points are not allowed.\")\n"
   ],
   "metadata": {
    "collapsed": false,
    "ExecuteTime": {
     "end_time": "2024-08-05T06:35:03.335754100Z",
     "start_time": "2024-08-05T06:35:03.272110500Z"
    }
   },
   "id": "8e07e51d9f01d1e8"
  },
  {
   "cell_type": "markdown",
   "source": [
    "### Prompts"
   ],
   "metadata": {
    "collapsed": false
   },
   "id": "61bcbc6f635538d3"
  },
  {
   "cell_type": "code",
   "execution_count": 11,
   "outputs": [],
   "source": [
    "rs_system_prompt = \"\"\"\n",
    "The decision-making process must be rigorous, taking every detail of the problem description into account.\n",
    "\"\"\"\n",
    "\n",
    "rs_user_prompt = \"\"\"\n",
    "You are given a code contest problem, and a self-reflection on the problem:\n",
    "\n",
    "\n",
    "problem description:\n",
    "=======\n",
    "{description}\n",
    "=======\n",
    "\n",
    "\n",
    "self-reflection on the problem:\n",
    "=======\n",
    "{self_reflection}\n",
    "=======\n",
    "\n",
    "\n",
    "Here is a list of {possible_solutions_length} possible solutions to the problem:\n",
    "=======\n",
    "{possible_solutions_str}\n",
    "=======\n",
    "\n",
    "\n",
    "Using the inputs above, your goal is to choose the best solution to the code contest problem.\n",
    "Don't just pick the most efficient solution. The main consideration is that the solution can fully solve the problem in a simple and robust manner.\n",
    "Make sure the chosen solution has a reasonable runtime - less than three seconds on a modern computer, given the problem constraints regarding large inputs.      \n",
    "        \n",
    "\\n{format_instructions}\n",
    "\"\"\"\n"
   ],
   "metadata": {
    "collapsed": false,
    "ExecuteTime": {
     "end_time": "2024-08-05T06:35:04.794370300Z",
     "start_time": "2024-08-05T06:35:04.718235300Z"
    }
   },
   "id": "f194b2f0273acf30"
  },
  {
   "cell_type": "code",
   "execution_count": 13,
   "outputs": [],
   "source": [
    "\n",
    "def format_possible_solutions(solutions: List[Solution]) -> str:\n",
    "    \"\"\"Formats a list of Possible Solution objects into a readable string.\"\"\"\n",
    "    formatted = \"\"\n",
    "    for i, solution in enumerate(solutions, 1):\n",
    "        formatted += f\"Solution {i}:\\n\"\n",
    "        formatted += f\"Name: {solution.name}\\n\"\n",
    "        formatted += f\"Content: {solution.content.strip()}\\n\"\n",
    "        formatted += f\"Why it works: {solution.why_it_works.strip()}\\n\"\n",
    "        formatted += f\"Labels: {', '.join(solution.labels)}\\n\"\n",
    "        formatted += f\"Complexity: {solution.complexity}\\n\\n\"\n",
    "    return formatted.strip()"
   ],
   "metadata": {
    "collapsed": false,
    "ExecuteTime": {
     "end_time": "2024-08-05T06:35:15.137378500Z",
     "start_time": "2024-08-05T06:35:15.104620100Z"
    }
   },
   "id": "18bd28da329155dc"
  },
  {
   "cell_type": "markdown",
   "source": [
    "### Generation"
   ],
   "metadata": {
    "collapsed": false
   },
   "id": "8b3921028977f99d"
  },
  {
   "cell_type": "code",
   "execution_count": 14,
   "outputs": [],
   "source": [
    "rs_temperature = 0.2\n",
    "\n",
    "rs_model = ChatOpenAI(model_name=\"gpt-4o\", temperature=rs_temperature, )\n",
    "\n",
    "rs_parser = YamlOutputParser(pydantic_object=ProblemSolutionParser)\n",
    "rs_prompt = ChatPromptTemplate.from_messages(\n",
    "    [\n",
    "        (\"system\", rs_system_prompt),\n",
    "        (\"user\", rs_user_prompt)\n",
    "    ],\n",
    ")\n",
    "\n",
    "rs_chain = rs_prompt | rs_model | rs_parser\n",
    "\n",
    "rs_testing_prompt = rs_prompt.format(description=input_problem_description,\n",
    "                                     self_reflection=reflection_output.self_reflection,\n",
    "                                     possible_solutions_length=len(ps_output.possible_solutions),\n",
    "                                     possible_solutions_str=format_possible_solutions(ps_output.possible_solutions),\n",
    "                                     format_instructions=rs_parser.get_format_instructions())\n",
    "\n",
    "rs_output: ProblemSolutionParser = rs_chain.invoke({\"description\": input_problem_description,\n",
    "                                                    \"self_reflection\": reflection_output.self_reflection,\n",
    "                                                    \"possible_solutions_length\": len(ps_output.possible_solutions),\n",
    "                                                    \"possible_solutions_str\": format_possible_solutions(\n",
    "                                                        ps_output.possible_solutions),\n",
    "                                                    \"format_instructions\": rs_parser.get_format_instructions()\n",
    "                                                    })\n"
   ],
   "metadata": {
    "collapsed": false,
    "ExecuteTime": {
     "end_time": "2024-08-05T06:35:20.744921Z",
     "start_time": "2024-08-05T06:35:15.922629300Z"
    }
   },
   "id": "53245d4a00e1547e"
  },
  {
   "cell_type": "code",
   "execution_count": 15,
   "outputs": [],
   "source": [
    "\n",
    "def format_best_ranked_solution(selected_solution: ProblemSolutionParser) -> str:\n",
    "    \"\"\"Formats best selected solution into a readable string.\"\"\"\n",
    "    formatted = \"\"\n",
    "    formatted += f\"Name {selected_solution.name}:\\n\"\n",
    "    formatted += f\"Description:\\n{selected_solution.content.strip()}\\n\"\n",
    "    formatted += f\"Reason:\\n{selected_solution.why.strip()}\\n\"\n",
    "    return formatted.strip()"
   ],
   "metadata": {
    "collapsed": false,
    "ExecuteTime": {
     "end_time": "2024-08-05T06:35:22.077570Z",
     "start_time": "2024-08-05T06:35:22.046209Z"
    }
   },
   "id": "ed9af1357ea5102a"
  },
  {
   "cell_type": "markdown",
   "source": [
    "## Initial Code Generation\n",
    "\n",
    "\n",
    "The initial code generation section's primary aim is to transform the best-ranked solution into executable Python code. Using structured output, this section first generates an initial code, including necessary imports and the main code logic, which is organized into small, meaningful functions. Initially, an executable code is generated based on the selected solution."
   ],
   "metadata": {
    "collapsed": false
   },
   "id": "cdc270f4b43d2370"
  },
  {
   "cell_type": "markdown",
   "source": [
    "### Parser Models"
   ],
   "metadata": {
    "collapsed": false
   },
   "id": "77d29c5b8f312b1f"
  },
  {
   "cell_type": "code",
   "execution_count": 16,
   "outputs": [],
   "source": [
    "class CodeGenerationParser(BaseModel):\n",
    "    prefix: str = Field(description=\"Description of the problem and approach\")\n",
    "    imports: str = Field(description=\"Code block import statements\")\n",
    "    code: str = Field(description=\"Code block not including import statements\")\n"
   ],
   "metadata": {
    "collapsed": false,
    "ExecuteTime": {
     "end_time": "2024-08-05T06:35:23.754691Z",
     "start_time": "2024-08-05T06:35:23.692199200Z"
    }
   },
   "id": "1edc98edef3d5ea1"
  },
  {
   "cell_type": "markdown",
   "source": [
    "### Prompts"
   ],
   "metadata": {
    "collapsed": false
   },
   "id": "16325e6c7b152717"
  },
  {
   "cell_type": "code",
   "execution_count": 17,
   "outputs": [],
   "source": [
    "cg_system_prompt = \"\"\"\n",
    "- You must divide the generated code into small sub-functions, with meaningful names and functionality. Each function should be no longer than 10 lines of code.\n",
    "- Double-check the solution code. The generated solution must generalize to any valid input, and not just the provided examples.\n",
    "- Structure your answer: 1) a prefix describing the code solution, 2) the imports, 3) the functioning code block.\n",
    "\"\"\"\n",
    "\n",
    "code_question = \"\"\"\n",
    "You are given a code contest problem, and a self-reflection on the problem.\n",
    "\n",
    "problem description:\n",
    "=============\n",
    "{description}\n",
    "=============\n",
    "\n",
    "\n",
    "self-reflection on the problem:\n",
    "======\n",
    "{self_reflection}\n",
    "======\n",
    "\n",
    "\n",
    "Your goal is to generate a valid Python code that correctly solves the code contest problem, using the following algorithm:\n",
    "=============\n",
    "{s_best_solution}\n",
    "=============\n",
    "\n",
    "\n",
    "Guidelines:\n",
    "- You must divide the generated code into small sub-functions, with meaningful names and functionality. Variables names should also be meaningful.\n",
    "- Double-check the generated code. It should generalize to any valid input, and not just the provided examples.\n",
    "- Make sure to include all the necessary module imports, properly initialize the variables, and address the problem constraints.\n",
    "\n",
    "- The code needs to be self-contained, and executable as-is.\n",
    "\n",
    "The generated code must follow this structure:\n",
    "```\n",
    "def f1(...):\n",
    "    ...\n",
    "    return ...\n",
    "\n",
    "def f2(...):\n",
    "    ...\n",
    "    return ...\n",
    "...\n",
    "\n",
    "if __name__ == \"__main__\":\n",
    "    input = sys.stdin.read()\n",
    "    ...\n",
    "```\n",
    "The code should read the input using the 'sys.stdin.read()' method. Make sure to properly parse the input, according to the problem description.\n",
    "The output should be printed without additional words using the 'print()' method.\n",
    "\n",
    "\n",
    "\n",
    "\\n{format_instructions}\n",
    "\"\"\"\n"
   ],
   "metadata": {
    "collapsed": false,
    "ExecuteTime": {
     "end_time": "2024-08-05T06:35:24.857223Z",
     "start_time": "2024-08-05T06:35:24.782005700Z"
    }
   },
   "id": "7664284658f8132d"
  },
  {
   "cell_type": "markdown",
   "source": [
    "### Graph LLM"
   ],
   "metadata": {
    "collapsed": false
   },
   "id": "e691f12f54ce0469"
  },
  {
   "cell_type": "code",
   "execution_count": 18,
   "outputs": [],
   "source": [
    "cg_temperature = 0.3\n",
    "\n",
    "cg_model = ChatOpenAI(model_name=\"gpt-4o\", temperature=cg_temperature, )\n",
    "\n",
    "cg_parser = YamlOutputParser(pydantic_object=CodeGenerationParser)\n",
    "cg_prompt = ChatPromptTemplate.from_messages(\n",
    "    [\n",
    "        (\"system\", cg_system_prompt),\n",
    "        (\"placeholder\", \"{messages}\"),\n",
    "    ],\n",
    ")\n",
    "\n",
    "cg_chain = cg_prompt | cg_model | cg_parser\n"
   ],
   "metadata": {
    "collapsed": false,
    "ExecuteTime": {
     "end_time": "2024-08-05T06:35:27.235043900Z",
     "start_time": "2024-08-05T06:35:26.107235600Z"
    }
   },
   "id": "465774631a6f0324"
  },
  {
   "cell_type": "code",
   "execution_count": 19,
   "outputs": [],
   "source": [
    "\n",
    "question = code_question.format(description=input_problem_description,\n",
    "                                self_reflection=reflection_output.self_reflection,\n",
    "                                s_best_solution=format_best_ranked_solution(rs_output),\n",
    "                                format_instructions=cg_parser.get_format_instructions()\n",
    "                                )\n",
    "messages = [(\"user\", question)]\n",
    "\n",
    "cg_output: CodeGenerationParser = cg_chain.invoke({\"messages\": messages})\n",
    "\n",
    "# cg_output.code = cg_output.code[:-50]  # For testing, truncate the code "
   ],
   "metadata": {
    "collapsed": false,
    "ExecuteTime": {
     "end_time": "2024-08-05T06:35:36.822988500Z",
     "start_time": "2024-08-05T06:35:30.843275300Z"
    }
   },
   "id": "a39a8e391cf5032e"
  },
  {
   "cell_type": "markdown",
   "source": [
    "## Iterative Testing and Refinement\n",
    "\n",
    "\n",
    "The process doesn't end with the initial code generation. Using LangGraph in Iterative Testing and Refinement section, the code is then iteratively tested against the provided test cases. During these iterative checks, the script executes the code and compares the generated output with the expected output for each test case. If the code fails to produce the correct output, it prompts the system to reflect, adjust, and generate a new solution, which is then tested again. This iterative process continues until a correct and robust solution is found or a maximum number of iterations is reached. This ensures that the final code not only meets the problem requirements but is also practically implementable and reliable."
   ],
   "metadata": {
    "collapsed": false
   },
   "id": "b9623ac07300033f"
  },
  {
   "cell_type": "markdown",
   "source": [
    "### State"
   ],
   "metadata": {
    "collapsed": false
   },
   "id": "9981466b075e88a2"
  },
  {
   "cell_type": "code",
   "execution_count": 20,
   "outputs": [],
   "source": [
    "from typing import Annotated, TypedDict\n",
    "\n",
    "from langgraph.graph.message import AnyMessage, add_messages\n",
    "\n",
    "\n",
    "class GraphState(TypedDict):\n",
    "    \"\"\"\n",
    "    Represents the state of our graph.\n",
    "\n",
    "    Attributes:\n",
    "        error (str): Binary flag for control flow to indicate whether a test error occurred.\n",
    "        messages (list of AnyMessage): Contains user questions, error messages, and reasoning.\n",
    "        generation (CodeGenerationParser): Code solution generated.\n",
    "        iterations (int): Number of attempts made.\n",
    "        problem_input_output (ReflectionInputOutput): Details of the problem's input and output.\n",
    "    \"\"\"\n",
    "\n",
    "    error: str\n",
    "    messages: Annotated[list[AnyMessage], add_messages]\n",
    "    generation: CodeGenerationParser\n",
    "    iterations: int\n",
    "    problem_input_output: ReflectionInputOutput"
   ],
   "metadata": {
    "collapsed": false,
    "ExecuteTime": {
     "end_time": "2024-08-05T06:35:38.794975300Z",
     "start_time": "2024-08-05T06:35:38.452173800Z"
    }
   },
   "id": "68de3f2ecb1b39a1"
  },
  {
   "cell_type": "markdown",
   "source": [
    "### Nodes"
   ],
   "metadata": {
    "collapsed": false
   },
   "id": "dbe63550c51066f9"
  },
  {
   "cell_type": "code",
   "execution_count": 21,
   "outputs": [],
   "source": [
    "import sys\n",
    "import io\n",
    "import uuid\n",
    "\n",
    "### Parameters\n",
    "max_iterations = 3\n",
    "\n",
    "\n",
    "### Nodes\n",
    "def generate(state: GraphState):\n",
    "    \"\"\"\n",
    "    Generate a code solution\n",
    "\n",
    "    Args:\n",
    "        state (dict): The current graph state\n",
    "\n",
    "    Returns:\n",
    "        state (dict): Updated state with generated code.\n",
    "    \"\"\"\n",
    "\n",
    "    print(\"Generating code solution...\")\n",
    "    # State\n",
    "    messages = state[\"messages\"]\n",
    "    iterations = state[\"iterations\"]\n",
    "\n",
    "    # Solution\n",
    "    code_solution = cg_chain.invoke({\"messages\": messages})\n",
    "    messages = [\n",
    "        (\n",
    "            \"assistant\",\n",
    "            # f\"Here is my attempt to solve the problem....\"\n",
    "            f\"Prefix:\\n{cg_output.prefix} \\nImports:\\n{cg_output.imports} \\nCode:\\n{cg_output.code}\",\n",
    "        )\n",
    "    ]\n",
    "\n",
    "    # Increment\n",
    "    iterations = iterations + 1\n",
    "    return {\"generation\": code_solution, \"messages\": messages, \"iterations\": iterations}\n",
    "\n",
    "\n",
    "def code_check(state: GraphState):\n",
    "    \"\"\"\n",
    "    Check code.\n",
    "\n",
    "    Args:\n",
    "        state (dict): The current graph state\n",
    "\n",
    "    Returns:\n",
    "        state (dict): New key added to state, error\n",
    "    \"\"\"\n",
    "\n",
    "    print(\"Checking code solution...\")\n",
    "\n",
    "    # State\n",
    "    code_solution = state[\"generation\"]\n",
    "    problem_input_output = state[\"problem_input_output\"]\n",
    "\n",
    "    # Get solution components\n",
    "    imports = code_solution.imports\n",
    "    code = code_solution.code\n",
    "\n",
    "    # Check code execution with input and expected output\n",
    "    try:\n",
    "        combined_code = f\"{imports}\\n{code}\"\n",
    "        print(\"Executing code with provided input and capturing output...\")\n",
    "\n",
    "        # Save the original stdin and stdout\n",
    "        original_stdin = sys.stdin\n",
    "        original_stdout = sys.stdout\n",
    "\n",
    "        # Passing input\n",
    "        sys.stdin = io.StringIO(problem_input_output.input)\n",
    "\n",
    "        # Redirect sys.stdout to capture the output\n",
    "        output_capture = io.StringIO()\n",
    "        sys.stdout = output_capture\n",
    "\n",
    "        exec(combined_code, globals())  # Execute the combined code\n",
    "\n",
    "        # Get the captured output\n",
    "        output = output_capture.getvalue().strip()\n",
    "\n",
    "        # Restore original stdin and stdout\n",
    "        sys.stdin = original_stdin\n",
    "        sys.stdout = original_stdout\n",
    "\n",
    "        if output[:5] != problem_input_output.output[:5]:\n",
    "            print(\n",
    "                f\"Failed to generate expected output.\\nActual output: {output} Generated output: {problem_input_output.output}\")\n",
    "            error_message = [\n",
    "                (\n",
    "                    \"user\",\n",
    "                    f\"Your solution failed to generate expected output.\\nPassed input: {problem_input_output.input} \\nCode output:{output} \\nExpected output: {problem_input_output.output} \\nReflect on this why the code has failed to generated expected output. (1) State what you think went wrong with the prior solution and (2) try to solve this problem again. Return the FULL SOLUTION. Use the code tool to structure the output with a prefix, imports, and code block:\",\n",
    "                )\n",
    "            ]\n",
    "            return {\n",
    "                \"messages\": error_message,\n",
    "                \"error\": \"yes\",\n",
    "            }\n",
    "\n",
    "    except Exception as e:\n",
    "        # Restore original stdin and stdout\n",
    "        sys.stdin = original_stdin\n",
    "        sys.stdout = original_stdout\n",
    "\n",
    "        print(f\"Error executing the code. \\n{e}\")\n",
    "        error_message = [\n",
    "            (\n",
    "                \"user\",\n",
    "                f\"Your solution failed the code execution test with following error: '{e}') with following input '{problem_input_output.input}'. \\nReflect on this error and your prior attempt to solve the problem. (1) State what you think went wrong with the prior solution and (2) try to solve this problem again. Return the FULL SOLUTION. Use the code tool to structure the output with a prefix, imports, and code block:\",\n",
    "            )\n",
    "        ]\n",
    "        return {\n",
    "            \"messages\": error_message,\n",
    "            \"error\": \"yes\",\n",
    "        }\n",
    "\n",
    "    # No errors found\n",
    "    print(\"Code executed successfully without any errors.\")\n",
    "    return {\n",
    "        \"error\": \"no\",\n",
    "    }\n",
    "\n",
    "\n",
    "### Conditional edges\n",
    "def decide_to_finish(state: GraphState):\n",
    "    \"\"\"\n",
    "    Determines whether to finish.\n",
    "\n",
    "    Args:\n",
    "        state (dict): The current graph state\n",
    "\n",
    "    Returns:\n",
    "        str: Next node to call\n",
    "    \"\"\"\n",
    "    error = state[\"error\"]\n",
    "    iterations = state[\"iterations\"]\n",
    "\n",
    "    if error == \"no\" or iterations >= max_iterations:\n",
    "        print(\"Decision: Finish\")\n",
    "        return \"end\"\n",
    "    else:\n",
    "        print(\"Decision: Retry solution\")\n",
    "        return \"generate\"\n",
    "\n",
    "\n",
    "### Utilities\n",
    "def _print_event(event: dict, _printed: set, max_length=150):\n",
    "    \"\"\"\n",
    "    Utility function to print events\n",
    "\n",
    "    Args:\n",
    "        event (dict): The event to print\n",
    "        _printed (set): Set of printed message IDs\n",
    "        max_length (int): Maximum length of the printed message\n",
    "    \"\"\"\n",
    "    current_state = event.get(\"dialog_state\")\n",
    "    if current_state:\n",
    "        print(\"Currently in: \", current_state[-1])\n",
    "    _messages = event.get(\"messages\")\n",
    "    if _messages and isinstance(_messages, list):\n",
    "        for message in _messages:\n",
    "            if message.id not in _printed:\n",
    "                msg_repr = message.pretty_repr(html=True)\n",
    "                if len(msg_repr) > max_length:\n",
    "                    msg_repr = msg_repr[:max_length] + \" ... (truncated)\"\n",
    "                print(msg_repr)\n",
    "                _printed.add(message.id)"
   ],
   "metadata": {
    "collapsed": false,
    "ExecuteTime": {
     "end_time": "2024-08-05T06:35:38.905286700Z",
     "start_time": "2024-08-05T06:35:38.858191200Z"
    }
   },
   "id": "66a55af81e6170b3"
  },
  {
   "cell_type": "markdown",
   "source": [
    "### Graph"
   ],
   "metadata": {
    "collapsed": false
   },
   "id": "19046cfb782fc05d"
  },
  {
   "cell_type": "code",
   "execution_count": 22,
   "outputs": [],
   "source": [
    "from langgraph.checkpoint.sqlite import SqliteSaver\n",
    "from langgraph.graph import END, StateGraph, START\n",
    "\n",
    "builder = StateGraph(GraphState)\n",
    "\n",
    "# Define the nodes\n",
    "builder.add_node(\"check_code\", code_check)  # check code\n",
    "builder.add_node(\"generate\", generate)  # generation solution\n",
    "\n",
    "# Build graph\n",
    "builder.add_edge(START, \"check_code\")\n",
    "builder.add_edge(\"generate\", \"check_code\")\n",
    "\n",
    "builder.add_conditional_edges(\n",
    "    \"check_code\",\n",
    "    decide_to_finish,\n",
    "    {\n",
    "        \"end\": END,\n",
    "        \"generate\": \"generate\",\n",
    "    },\n",
    ")\n",
    "\n",
    "memory = SqliteSaver.from_conn_string(\":memory:\")\n",
    "graph = builder.compile(checkpointer=memory)"
   ],
   "metadata": {
    "collapsed": false,
    "ExecuteTime": {
     "end_time": "2024-08-05T06:35:39.237974100Z",
     "start_time": "2024-08-05T06:35:39.170620800Z"
    }
   },
   "id": "67c842284d0cd30"
  },
  {
   "cell_type": "markdown",
   "source": [
    "### Print Graph"
   ],
   "metadata": {
    "collapsed": false
   },
   "id": "b79e3c57e4e21492"
  },
  {
   "cell_type": "code",
   "execution_count": 23,
   "outputs": [
    {
     "data": {
      "image/jpeg": "[encoded data removed]",
      "text/plain": "<IPython.core.display.Image object>"
     },
     "metadata": {},
     "output_type": "display_data"
    }
   ],
   "source": [
    "from IPython.display import Image, display\n",
    "\n",
    "try:\n",
    "    display(Image(graph.get_graph(xray=True).draw_mermaid_png()))\n",
    "except Exception:\n",
    "    # This requires some extra dependencies and is optional\n",
    "    pass"
   ],
   "metadata": {
    "collapsed": false,
    "ExecuteTime": {
     "end_time": "2024-08-05T06:35:41.076426100Z",
     "start_time": "2024-08-05T06:35:39.495520700Z"
    }
   },
   "id": "46969abd000fab43"
  },
  {
   "cell_type": "markdown",
   "source": [
    "### Test Graph"
   ],
   "metadata": {
    "collapsed": false
   },
   "id": "33ebda688754f73b"
  },
  {
   "cell_type": "code",
   "execution_count": 24,
   "outputs": [
    {
     "name": "stdout",
     "output_type": "stream",
     "text": [
      "********************\n",
      "Test case 1\n",
      "********************\n",
      "================================\u001B[1m Human Message \u001B[0m=================================\n",
      "\n",
      "\n",
      "You are given a code contest problem, and a self-reflection ... (truncated)\n",
      "==================================\u001B[1m Ai Message \u001B[0m==================================\n",
      "\n",
      "Prefix:\n",
      "The problem involves building a circular amusement p ... (truncated)\n",
      "Checking code solution...\n",
      "Executing code with provided input and capturing output...\n",
      "Code executed successfully without any errors.\n",
      "Decision: Finish\n",
      "Code is correct. Updating code solution.\n",
      "********************\n",
      "Test case 2\n",
      "********************\n",
      "================================\u001B[1m Human Message \u001B[0m=================================\n",
      "\n",
      "\n",
      "You are given a code contest problem, and a self-reflection ... (truncated)\n",
      "==================================\u001B[1m Ai Message \u001B[0m==================================\n",
      "\n",
      "Prefix:\n",
      "The problem involves building a circular amusement p ... (truncated)\n",
      "Checking code solution...\n",
      "Executing code with provided input and capturing output...\n",
      "Code executed successfully without any errors.\n",
      "Decision: Finish\n",
      "Code is correct. Updating code solution.\n"
     ]
    }
   ],
   "source": [
    "_printed = set()\n",
    "thread_id = str(uuid.uuid4())\n",
    "\n",
    "question = code_question.format(description=input_problem_description,\n",
    "                                self_reflection=reflection_output.self_reflection,\n",
    "                                s_best_solution=format_best_ranked_solution(rs_output),\n",
    "                                format_instructions=cg_parser.get_format_instructions()\n",
    "                                )\n",
    "\n",
    "for i, problem_test in enumerate(reflection_output.tests_explanations):\n",
    "    print(\"*\" * 20)\n",
    "    print(f\"Test case {i + 1}\")\n",
    "    print(\"*\" * 20)\n",
    "    config = {\n",
    "        \"configurable\": {\n",
    "            \"thread_id\": f\"thread_id_{i + 1}\",  # Checkpoints are accessed by thread_id\n",
    "        }\n",
    "    }\n",
    "\n",
    "    events = graph.stream(\n",
    "        {\"messages\": [\n",
    "            (\"user\", question),\n",
    "            (\n",
    "                \"assistant\",\n",
    "                f\"Prefix:\\n{cg_output.prefix} \\nImports:\\n{cg_output.imports} \\nCode:\\n{cg_output.code}\",\n",
    "            )\n",
    "        ],\n",
    "            \"generation\": cg_output,\n",
    "            \"problem_input_output\": problem_test,\n",
    "            \"iterations\": 0\n",
    "        }\n",
    "        , config, stream_mode=\"values\"\n",
    "    )\n",
    "    for event in events:\n",
    "        _print_event(event, _printed)\n",
    "\n",
    "    if event['error'] == \"no\":  # Solution was either working or after update its working\n",
    "        print(\"Code is correct. Updating code solution.\")\n",
    "        cg_output: CodeGenerationParser = event['generation']  # Updating working code\n",
    "    else:\n",
    "        print(\"Failed to generate code. Skipping code update.\")"
   ],
   "metadata": {
    "collapsed": false,
    "ExecuteTime": {
     "end_time": "2024-08-05T06:35:41.170647300Z",
     "start_time": "2024-08-05T06:35:41.092057700Z"
    }
   },
   "id": "89ab7daf87f09ce"
  },
  {
   "cell_type": "markdown",
   "source": [
    "## Final Generated Code"
   ],
   "metadata": {
    "collapsed": false
   },
   "id": "1d041f96b59bc1cc"
  },
  {
   "cell_type": "code",
   "execution_count": 26,
   "outputs": [
    {
     "name": "stdout",
     "output_type": "stream",
     "text": [
      "import sys\n",
      "import math\n",
      "from heapq import nsmallest\n",
      "\n",
      "def read_input():\n",
      "    input = sys.stdin.read()\n",
      "    data = input.split()\n",
      "    n = int(data[0])\n",
      "    k = int(data[1])\n",
      "    coordinates = [(int(data[i * 2 + 2]), int(data[i * 2 + 3])) for i in range(n)]\n",
      "    return n, k, coordinates\n",
      "\n",
      "def calculate_distances(coordinates):\n",
      "    return [math.sqrt(x**2 + y**2) for x, y in coordinates]\n",
      "\n",
      "def find_kth_smallest_distance(distances, k):\n",
      "    return nsmallest(k, distances)[-1]\n",
      "\n",
      "def main():\n",
      "    n, k, coordinates = read_input()\n",
      "    distances = calculate_distances(coordinates)\n",
      "    min_radius = find_kth_smallest_distance(distances, k)\n",
      "    print(f\"{min_radius:.10f}\")\n",
      "\n",
      "if __name__ == \"__main__\":\n",
      "    main()\n"
     ]
    }
   ],
   "source": [
    "final_code = f\"{cg_output.imports}\\n{cg_output.code}\"\n",
    "print(final_code)"
   ],
   "metadata": {
    "collapsed": false,
    "ExecuteTime": {
     "end_time": "2024-08-05T09:31:04.647910200Z",
     "start_time": "2024-08-05T09:31:04.617560500Z"
    }
   },
   "id": "f236517777a4622b"
  },
  {
   "cell_type": "code",
   "execution_count": null,
   "outputs": [],
   "source": [],
   "metadata": {
    "collapsed": false
   },
   "id": "420c1ef306638ed1"
  }
 ],
 "metadata": {
  "kernelspec": {
   "display_name": "Python 3",
   "language": "python",
   "name": "python3"
  },
  "language_info": {
   "codemirror_mode": {
    "name": "ipython",
    "version": 2
   },
   "file_extension": ".py",
   "mimetype": "text/x-python",
   "name": "python",
   "nbconvert_exporter": "python",
   "pygments_lexer": "ipython2",
   "version": "2.7.6"
  }
 },
 "nbformat": 4,
 "nbformat_minor": 5
}
